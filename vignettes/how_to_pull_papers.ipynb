{
 "cells": [
  {
   "cell_type": "markdown",
   "metadata": {},
   "source": [
    "## Pulling Papers"
   ]
  },
  {
   "cell_type": "code",
   "execution_count": 1,
   "metadata": {},
   "outputs": [
    {
     "name": "stderr",
     "output_type": "stream",
     "text": [
      "/Users/degn400/.virtualenvs/DancePartner/lib/python3.9/site-packages/tqdm/auto.py:21: TqdmWarning: IProgress not found. Please update jupyter and ipywidgets. See https://ipywidgets.readthedocs.io/en/stable/user_install.html\n",
      "  from .autonotebook import tqdm as notebook_tqdm\n",
      "2025-04-24 10:47:29 WE45748 metapub.config[19799] WARNING NCBI_API_KEY was not set.\n"
     ]
    }
   ],
   "source": [
    "# Load Libraries\n",
    "import os\n",
    "import shutil\n",
    "import DancePartner as dance\n",
    "import pandas as pd\n",
    "\n",
    "# Define the output directory\n",
    "output_directory = os.path.join(os.getcwd(), \"pulling_papers\")\n",
    "\n",
    "# Remove it if it already exists and start anew\n",
    "if os.path.exists(output_directory):\n",
    "    shutil.rmtree(output_directory)\n",
    "    os.mkdir(output_directory, mode = 0o777)\n",
    "else: \n",
    "    os.mkdir(output_directory, mode = 0o777)"
   ]
  },
  {
   "cell_type": "markdown",
   "metadata": {},
   "source": [
    "DancePartner can be used to pull papers from PubMed, Scopus, and OSTI. Papers can be pulled from databases individually, or multiple databases at a time. The default priority is clean text whenever possible followed by titles and abstracts. Users may specify different priorities when pulling text. \n",
    "\n",
    "Here we will go through various ways that publications can be pulled. Our examples are:\n",
    "\n",
    "1. Pulling papers from a single database\n",
    "2. Pulling papers from multiple databases\n"
   ]
  },
  {
   "cell_type": "markdown",
   "metadata": {},
   "source": [
    "### Example 1: Pulling papers from a single database\n",
    "\n",
    "Here, we have a list of PubMed paper IDs that be either numeric or string type. The last ID does not reference a real paper, but demonstrates how the package acts when a paper is encountered that does not exist."
   ]
  },
  {
   "cell_type": "code",
   "execution_count": 2,
   "metadata": {},
   "outputs": [],
   "source": [
    "paper_ids = [9851916, 16803962, 12628183, 15035988, 17626846, 18675916, 21858180, 16803962333333]"
   ]
  },
  {
   "cell_type": "markdown",
   "metadata": {},
   "source": [
    "Now we call our paper pulling function called `pull_papers`. Note that this function may take a while depending on the number of publications to pull. You should estimate approximately 1-5 seconds per publication. "
   ]
  },
  {
   "cell_type": "code",
   "execution_count": 3,
   "metadata": {},
   "outputs": [
    {
     "name": "stderr",
     "output_type": "stream",
     "text": [
      "2025-04-24 10:47:35 WE45748 metapub.findit[19799] INFO FindIt Cache initialized at /Users/degn400/.cache/findit.db\n"
     ]
    }
   ],
   "source": [
    "os.mkdir(os.path.join(output_directory, \"pubmed_paper_output_folder\"))\n",
    "dance.pull_papers(pubmed_ids = paper_ids, output_directory = os.path.join(output_directory, \"pubmed_paper_output_folder\"))"
   ]
  },
  {
   "cell_type": "markdown",
   "metadata": {},
   "source": [
    "Let's take a look at the content of the folder that we created:"
   ]
  },
  {
   "cell_type": "code",
   "execution_count": 4,
   "metadata": {},
   "outputs": [
    {
     "data": {
      "text/plain": [
       "['pubmed_tarballs',\n",
       " 'pubmed_clean',\n",
       " 'output_summary.txt',\n",
       " 'pubmed_abstracts',\n",
       " 'pubmed_pdfs']"
      ]
     },
     "execution_count": 4,
     "metadata": {},
     "output_type": "execute_result"
    }
   ],
   "source": [
    "os.listdir(os.path.join(output_directory, \"pubmed_paper_output_folder\"))"
   ]
  },
  {
   "cell_type": "markdown",
   "metadata": {},
   "source": [
    "We see that the output folder contains an `output_summary.txt` file as well as several subdirectories. The `pubmed_tarballs` folder contains the `[].tar.gz` files that are used as a subprocess to collect full papers from the PubMed database. They are large files that do not need to be kept. If you would like to write them to a different location, you can specify this in `ppi.pull_papers()` with the optional `tarball_path` parameter. The other three subfolders contain the actual papers themselves. We can glean additional insight into these folders with the `output_summary.txt` file. Let's take a look at what it says:"
   ]
  },
  {
   "cell_type": "code",
   "execution_count": 5,
   "metadata": {},
   "outputs": [
    {
     "name": "stdout",
     "output_type": "stream",
     "text": [
      "Output Summary for Pulling Papers\n",
      "Created: 2025-04-24 10:47:45.759754\n",
      "Total Num. Articles: 8\n",
      "Total Num. Articles Found: 7\n",
      "Number of Full Text: 3\n",
      "Number of Title & Abstracts: 4\n",
      "Number Missing: 1\n",
      "\n"
     ]
    }
   ],
   "source": [
    "with open(os.path.join(output_directory, \"pubmed_paper_output_folder\", \"output_summary.txt\"), \"r\") as f:\n",
    "    print(f.read())"
   ]
  },
  {
   "cell_type": "markdown",
   "metadata": {},
   "source": [
    "This gives a detailed look at the results of the pull_paper function. It shows us when the files were downloaded, the database used, the total number of articles that were searched for, as well as a breakdown of how many papers of each download type were found. Users may also specify which publication type they would like to pull, whether that be \"abstracts\", \"full text\", or \"both\" where priority is given to full text publications. Let's pull some abstracts. "
   ]
  },
  {
   "cell_type": "code",
   "execution_count": 6,
   "metadata": {},
   "outputs": [
    {
     "name": "stdout",
     "output_type": "stream",
     "text": [
      "Output Summary for Pulling Papers\n",
      "Created: 2025-04-24 10:47:50.005828\n",
      "Total Num. Articles: 8\n",
      "Total Num. Articles Found: 7\n",
      "Number of Full Text: 0\n",
      "Number of Title & Abstracts: 7\n",
      "Number Missing: 1\n",
      "\n"
     ]
    }
   ],
   "source": [
    "# Create directory to hold papers \n",
    "os.mkdir(os.path.join(output_directory, \"pubmed_abstracts\"))\n",
    "\n",
    "# Pull papers\n",
    "dance.pull_papers(pubmed_ids = paper_ids, output_directory = os.path.join(output_directory, \"pubmed_abstracts\"), type = \"abstract\")\n",
    "\n",
    "# Read summary file \n",
    "with open(os.path.join(output_directory, \"pubmed_abstracts\", \"output_summary.txt\"), \"r\") as f:\n",
    "    print(f.read())"
   ]
  },
  {
   "cell_type": "markdown",
   "metadata": {},
   "source": [
    "If using the output csv from LitPortal, read the table into python. For PubMed and OSTI, please use the `OriginId` column. For Scopus, please use the `DOI` column. Let's pull papers from scopus. Scopus requires an API key. Save the key as \"scopus_key.txt\" as put it in your example_data folder. More details can be found here: https://dev.elsevier.com/"
   ]
  },
  {
   "cell_type": "code",
   "execution_count": 7,
   "metadata": {},
   "outputs": [
    {
     "name": "stdout",
     "output_type": "stream",
     "text": [
      "Output Summary for Pulling Papers\n",
      "Created: 2025-04-24 10:47:53.884140\n",
      "Total Num. Articles: 4\n",
      "Total Num. Articles Found: 4\n",
      "Number of Full Text: 1\n",
      "Number of Title & Abstracts: 3\n",
      "Number Missing: 0\n",
      "\n"
     ]
    }
   ],
   "source": [
    "# Create directory to hold papers\n",
    "os.mkdir(os.path.join(output_directory, \"scopus_papers\"))\n",
    "\n",
    "# Read the scopus api key \n",
    "with open(os.path.join(os.getcwd(), \"../example_data/scopus_key.txt\"), \"r\" ) as f: \n",
    "    scopus_api_key = f.read()\n",
    "\n",
    "# Pull papers\n",
    "dance.pull_papers(scopus_ids = [\"10.1186/s40168-021-01035-8\", \"10.1002/bit.26296\", \"10.1002/pmic.200300397\", \"10.1074/mcp.M115.057117\"],\n",
    "                output_directory = os.path.join(output_directory, \"scopus_papers\"), scopus_api_key = scopus_api_key)\n",
    "\n",
    "# Read summary file \n",
    "with open(os.path.join(output_directory, \"scopus_papers\", \"output_summary.txt\"), \"r\") as f:\n",
    "    print(f.read())"
   ]
  },
  {
   "cell_type": "markdown",
   "metadata": {},
   "source": [
    "And finally, here is an example using OSTI. "
   ]
  },
  {
   "cell_type": "code",
   "execution_count": 8,
   "metadata": {},
   "outputs": [
    {
     "name": "stderr",
     "output_type": "stream",
     "text": [
      "/Users/degn400/.virtualenvs/DancePartner/lib/python3.9/site-packages/DancePartner/pull_osti.py:90: GuessedAtParserWarning: No parser was explicitly specified, so I'm using the best available HTML parser for this system (\"lxml\"). This usually isn't a problem, but if you run this code on another system, or in a different virtual environment, it may use a different parser and behave differently.\n",
      "\n",
      "The code that caused this warning is on line 90 of the file /Users/degn400/.virtualenvs/DancePartner/lib/python3.9/site-packages/DancePartner/pull_osti.py. To get rid of this warning, pass the additional argument 'features=\"lxml\"' to the BeautifulSoup constructor.\n",
      "\n",
      "  f.write(BeautifulSoup(data['title']).get_text() + \". \")\n"
     ]
    },
    {
     "name": "stdout",
     "output_type": "stream",
     "text": [
      "Output Summary for Pulling Papers\n",
      "Created: 2025-04-24 10:47:56.264270\n",
      "Total Num. Articles: 4\n",
      "Total Num. Articles Found: 3\n",
      "Number of Full Text: 0\n",
      "Number of Title & Abstracts: 3\n",
      "Number Missing: 1\n",
      "\n"
     ]
    }
   ],
   "source": [
    "# Create directory to hold osti papers\n",
    "os.mkdir(os.path.join(output_directory, \"osti_papers\"))\n",
    "\n",
    "# Pull papers\n",
    "dance.pull_papers(osti_ids = [\"2229172\", \"1629838\", \"1766618\", \"1379914\"], output_directory = os.path.join(output_directory, \"osti_papers\"))\n",
    "\n",
    "# Read summary file \n",
    "with open(os.path.join(output_directory, \"osti_papers\", \"output_summary.txt\"), \"r\") as f:\n",
    "    print(f.read())"
   ]
  },
  {
   "cell_type": "markdown",
   "metadata": {},
   "source": [
    "### Example 2: Pulling Papers from Multiple Databases"
   ]
  },
  {
   "cell_type": "markdown",
   "metadata": {},
   "source": [
    "Oftentimes, we want to pull papers from more than just one database. To do so, we pass a differnt set of arguments to our `pull_papers` function. Instead of specifying a database and a list of IDs, we can instead feed strings pointing to the CSV files downloaded from each database."
   ]
  },
  {
   "cell_type": "code",
   "execution_count": null,
   "metadata": {},
   "outputs": [],
   "source": [
    "pubmed_path = os.path.join(os.getcwd(), \"vignette_data/PubMed_Export.csv\")\n",
    "scopus_path = os.path.join(os.getcwd(), \"vignette_data/Scopus_Export.csv\")\n",
    "osti_path = os.path.join(os.getcwd(), \"vignette_data/OSTI_Export.csv\")"
   ]
  },
  {
   "cell_type": "markdown",
   "metadata": {},
   "source": [
    "First, let's deduplicate the papers with the deduplicate_papers function.\n",
    "\n",
    "We will now specify the output folder location as we did previously. Please note that using Scopus requires an API key to function properly. Instructions to obtain one can be found [here](https://dev.elsevier.com/). We will read in our key here, so remember to replace these lines with yours."
   ]
  },
  {
   "cell_type": "code",
   "execution_count": 2,
   "metadata": {},
   "outputs": [
    {
     "data": {
      "application/vnd.microsoft.datawrangler.viewer.v0+json": {
       "columns": [
        {
         "name": "index",
         "rawType": "int64",
         "type": "integer"
        },
        {
         "name": "Title",
         "rawType": "object",
         "type": "string"
        },
        {
         "name": "DOI",
         "rawType": "object",
         "type": "unknown"
        },
        {
         "name": "pubmed",
         "rawType": "float64",
         "type": "float"
        },
        {
         "name": "scopus",
         "rawType": "object",
         "type": "unknown"
        },
        {
         "name": "osti",
         "rawType": "float64",
         "type": "float"
        }
       ],
       "ref": "ef51cbb8-ef39-4e35-930b-215ad3154093",
       "rows": [
        [
         "0",
         "12th international mouse genome conference",
         null,
         null,
         null,
         "760867.0"
        ],
        [
         "1",
         "13c and 15nlabeling strategies combined with mass spectrometry comprehensively quantify phospholipid dynamics in c elegans",
         "10.1371/journal.pone.0141850",
         "26528916.0",
         null,
         null
        ],
        [
         "2",
         "2004 environmental mutagen society annual meeting  genes mutations and disease the environmental connection",
         "10.1002/em.20057",
         null,
         null,
         "877190.0"
        ],
        [
         "3",
         "2016 national algal biofuels technology review",
         "10.2172/1259407",
         null,
         null,
         "1259407.0"
        ],
        [
         "4",
         "2nd international conference on pathways networks and systems theory and experiments",
         null,
         null,
         null,
         "860359.0"
        ],
        [
         "5",
         "6methylcoumarin rescues bacterial quorum sensing induced ribosomeinactivating stress in caenorhabditis elegans",
         "10.1016/j.micpath.2022.105833",
         "36265737.0",
         null,
         null
        ],
        [
         "6",
         "a caenorhabditis elegans mass spectrometric resource for neuropeptidomics",
         "10.1007/s13361-017-1856-z",
         "29299835.0",
         null,
         null
        ],
        [
         "7",
         "a caenorhabditis elegans nck1 and filamentous actinregulating protein pathway mediates a key cellular defense against bacterial poreforming proteins",
         "10.1371/journal.ppat.1010656",
         "36374839.0",
         null,
         null
        ],
        [
         "8",
         "a chaperome subnetwork safeguards proteostasis in aging and neurodegenerative disease",
         "10.1016/j.celrep.2014.09.042",
         "25437566.0",
         null,
         null
        ],
        [
         "9",
         "a chromatin localization screen reveals poly adp riboseregulated recruitment of the repressive polycomb and nurd complexes to sites of dna damage",
         "10.1073/pnas.1012946107",
         "20937877.0",
         null,
         null
        ],
        [
         "10",
         "a click chemistrybased biorthogonal approach for the detection and identification of protein lysine malonylation for osteoarthritis research",
         "10.1101/2024.12.12.628274",
         "39713453.0",
         null,
         null
        ],
        [
         "11",
         "a cobalamindependent pathway of choline demethylation from the human gut acetogen eubacterium limosum",
         "10.1016/j.jbc.2025.108524",
         null,
         null,
         "2562193.0"
        ],
        [
         "12",
         "a combination of biochemical and proteomic analyses reveals bxlec1 as an antigenic target for the monoclonal antibody 32a72h5d9f10 specific to the pine wood nematode",
         "10.1074/mcp.M900521-MCP200",
         "20410377.0",
         null,
         null
        ],
        [
         "13",
         "a combined in vitrobioinformatic investigation of redox regulatory mechanisms governing cell cycle progression",
         "10.1152/physiolgenomics.00058.2004",
         "15138307.0",
         null,
         null
        ],
        [
         "14",
         "a combined proteomics metabolomics and in vivo analysis approach for the characterization of probiotics in largescale production",
         "10.3390/biom10010157",
         "31963736.0",
         null,
         null
        ],
        [
         "15",
         "a common class of nematode glutathione stransferase gst revealed by the theoretical proteome of the model organism caenorhabditis elegans",
         "10.1016/s1096-4959(00)00360-2",
         "11290452.0",
         null,
         null
        ],
        [
         "16",
         "a comparative chemogenomics strategy to predict potential drug targets in the metazoan pathogen schistosoma mansoni",
         "10.1371/journal.pone.0004413",
         "19198654.0",
         null,
         null
        ],
        [
         "17",
         "a comparative metaanalysis of membraneless organelleassociated proteins with age related proteome of c elegans",
         "10.1007/s12192-022-01299-5",
         "36169889.0",
         null,
         null
        ],
        [
         "18",
         "a comparison of the mitochondrial proteome and lipidome in the mouse and longlived pipistrelle bats",
         "10.18632/aging.101861",
         "30892277.0",
         null,
         null
        ],
        [
         "19",
         "a compendium of human gene functions derived from evolutionary modelling",
         "10.1038/s41586-025-08592-0",
         null,
         null,
         "2558053.0"
        ],
        [
         "20",
         "a complex containing the oglcnac transferase ogt1 and the ubiquitin ligase eel1 regulates gaba neuron function",
         "10.1074/jbc.RA119.007406",
         "30858176.0",
         null,
         null
        ],
        [
         "21",
         "a comprehensive overview of postbiotics with a special focus on discovery techniques and clinical applications",
         "10.3390/foods13182937",
         null,
         null,
         "2446971.0"
        ],
        [
         "22",
         "a comprehensive plasmodium falciparum protein interaction map reveals a distinct architecture of a core interactome",
         "10.1002/pmic.200800383",
         "19333996.0",
         null,
         null
        ],
        [
         "23",
         "a computational pipeline for protein structure prediction and analysis at genome scale",
         "10.1093/bioinformatics/btg262",
         "14555633.0",
         null,
         null
        ],
        [
         "24",
         "a conserved mitocytosolic translational balance links two longevity pathways",
         "10.1016/j.cmet.2020.01.011",
         "32084377.0",
         null,
         null
        ],
        [
         "25",
         "a conserved neuronal daf16foxo plays an important role in conveying pheromone signals to elicit repulsion behavior in caenorhabditis elegans",
         "10.1038/s41598-017-07313-6",
         "28775361.0",
         null,
         null
        ],
        [
         "26",
         "a conserved protein tyrosine phosphatase ptpn22 functions in diverse developmental processes in c elegans",
         "10.1101/2024.03.12.584557",
         "38559252.0",
         null,
         null
        ],
        [
         "27",
         "a conserved protein tyrosine phosphatase ptpn22 functions in diverse developmental processes in c elegans",
         "10.1371/journal.pgen.1011219",
         "39173071.0",
         null,
         null
        ],
        [
         "28",
         "a differential cytolocalization assay for analysis of macromolecular assemblies in the eukaryotic cytoplasm",
         "10.1074/mcp.T600025-MCP200",
         "16914455.0",
         null,
         null
        ],
        [
         "29",
         "a differential proteomic approach reveals an evolutionary conserved regulation of nme proteins by fe65 in c elegans and mouse",
         "10.1007/s11064-008-9683-z",
         "18401706.0",
         null,
         null
        ],
        [
         "30",
         "a differential proteomics study of caenorhabditis elegans infected with aeromonas hydrophila",
         "10.1016/j.dci.2010.02.003",
         "20149819.0",
         null,
         null
        ],
        [
         "31",
         "a differentiation transcription factor establishes musclespecific proteostasis in caenorhabditis elegans",
         "10.1371/journal.pgen.1006531",
         "28036392.0",
         null,
         null
        ],
        [
         "32",
         "a direct comparison of protein interaction confidence assignment schemes",
         "10.1186/1471-2105-7-360",
         "16872496.0",
         null,
         null
        ],
        [
         "33",
         "a fluorogenic aryl fluorosulfate for intraorganellar transthyretin imaging in living cells and in caenorhabditis elegans",
         "10.1021/jacs.5b03042",
         "26051248.0",
         null,
         null
        ],
        [
         "34",
         "a gabaergic and peptidergic sleep neuron as a locomotion stop neuron with compartmentalized ca2 dynamics",
         "10.1038/s41467-019-12098-5",
         "31506439.0",
         null,
         null
        ],
        [
         "35",
         "a general model of g proteincoupled receptor sequences and its application to detect remote homologs",
         "10.1110/ps.051745906",
         "16452613.0",
         null,
         null
        ],
        [
         "36",
         "a genetic screening strategy identifies novel regulators of the proteostasis network",
         "10.1371/journal.pgen.1002438",
         "22242008.0",
         null,
         null
        ],
        [
         "37",
         "a genomescale resource for in vivo tagbased protein function exploration in c elegans",
         "10.1016/j.cell.2012.08.001",
         "22901814.0",
         null,
         null
        ],
        [
         "38",
         "a genomewide mrna expression profile in caenorhabditis elegans under prolonged exposure to 1750mhz radiofrequency fields",
         "10.1371/journal.pone.0147273",
         "26811916.0",
         null,
         null
        ],
        [
         "39",
         "a genomewide study of pdzdomain interactions in c elegans reveals a high frequency of noncanonical binding",
         "10.1186/1471-2164-11-671",
         "21110867.0",
         null,
         null
        ],
        [
         "40",
         "a global lipid map defines a network essential for zika virus replication",
         "10.1038/s41467-020-17433-9",
         null,
         null,
         "1688419.0"
        ],
        [
         "41",
         "a global lipid map defines a network essential for zika virus replication",
         "10.1101/2020.01.27.910919",
         null,
         null,
         "1650712.0"
        ],
        [
         "42",
         "a globin domain in a neuronal transmembrane receptor of caenorhabditis elegans and ascaris suum molecular modeling and functional properties",
         "10.1074/jbc.M114.576520",
         "25666609.0",
         null,
         null
        ],
        [
         "43",
         "a glutamateaspartate switch controls product specificity in a protein arginine methyltransferase",
         "10.1073/pnas.1525783113",
         null,
         null,
         "1258672.0"
        ],
        [
         "44",
         "a glutamateaspartate switch controls product specificity in a protein arginine methyltransferase",
         "10.1073/pnas.1525783113",
         null,
         null,
         "1354247.0"
        ],
        [
         "45",
         "a glycoproteomic approach to identify novel proteoglycans",
         "10.1007/978-1-0716-1398-6_7",
         "34626371.0",
         null,
         null
        ],
        [
         "46",
         "a green light to expression in time and space",
         "10.1038/nbt0607-645",
         "17557099.0",
         null,
         null
        ],
        [
         "47",
         "a high throughput platform for eukaryotic genes",
         "10.1007/978-1-60327-058-8_13",
         "18542866.0",
         null,
         null
        ],
        [
         "48",
         "a highly efficient multifunctional tandem affinity purification approach applicable to diverse organisms",
         "10.1074/mcp.O111.016246",
         "22474084.0",
         null,
         null
        ],
        [
         "49",
         "a highthroughput method for identifying novel genes that influence metabolic pathways reveals new iron and heme regulation in pseudomonas aeruginosa",
         "10.1128/msystems.00933-20",
         null,
         null,
         "1784789.0"
        ]
       ],
       "shape": {
        "columns": 5,
        "rows": 1699
       }
      },
      "text/html": [
       "<div>\n",
       "<style scoped>\n",
       "    .dataframe tbody tr th:only-of-type {\n",
       "        vertical-align: middle;\n",
       "    }\n",
       "\n",
       "    .dataframe tbody tr th {\n",
       "        vertical-align: top;\n",
       "    }\n",
       "\n",
       "    .dataframe thead th {\n",
       "        text-align: right;\n",
       "    }\n",
       "</style>\n",
       "<table border=\"1\" class=\"dataframe\">\n",
       "  <thead>\n",
       "    <tr style=\"text-align: right;\">\n",
       "      <th></th>\n",
       "      <th>Title</th>\n",
       "      <th>DOI</th>\n",
       "      <th>pubmed</th>\n",
       "      <th>scopus</th>\n",
       "      <th>osti</th>\n",
       "    </tr>\n",
       "  </thead>\n",
       "  <tbody>\n",
       "    <tr>\n",
       "      <th>0</th>\n",
       "      <td>12th international mouse genome conference</td>\n",
       "      <td>NaN</td>\n",
       "      <td>NaN</td>\n",
       "      <td>NaN</td>\n",
       "      <td>760867.0</td>\n",
       "    </tr>\n",
       "    <tr>\n",
       "      <th>1</th>\n",
       "      <td>13c and 15nlabeling strategies combined with m...</td>\n",
       "      <td>10.1371/journal.pone.0141850</td>\n",
       "      <td>26528916.0</td>\n",
       "      <td>NaN</td>\n",
       "      <td>NaN</td>\n",
       "    </tr>\n",
       "    <tr>\n",
       "      <th>2</th>\n",
       "      <td>2004 environmental mutagen society annual meet...</td>\n",
       "      <td>10.1002/em.20057</td>\n",
       "      <td>NaN</td>\n",
       "      <td>NaN</td>\n",
       "      <td>877190.0</td>\n",
       "    </tr>\n",
       "    <tr>\n",
       "      <th>3</th>\n",
       "      <td>2016 national algal biofuels technology review</td>\n",
       "      <td>10.2172/1259407</td>\n",
       "      <td>NaN</td>\n",
       "      <td>NaN</td>\n",
       "      <td>1259407.0</td>\n",
       "    </tr>\n",
       "    <tr>\n",
       "      <th>4</th>\n",
       "      <td>2nd international conference on pathways netwo...</td>\n",
       "      <td>NaN</td>\n",
       "      <td>NaN</td>\n",
       "      <td>NaN</td>\n",
       "      <td>860359.0</td>\n",
       "    </tr>\n",
       "    <tr>\n",
       "      <th>...</th>\n",
       "      <td>...</td>\n",
       "      <td>...</td>\n",
       "      <td>...</td>\n",
       "      <td>...</td>\n",
       "      <td>...</td>\n",
       "    </tr>\n",
       "    <tr>\n",
       "      <th>1694</th>\n",
       "      <td>zn deficiency disrupts cu and s homeostasis in...</td>\n",
       "      <td>10.1093/mtomcs/mfad043</td>\n",
       "      <td>NaN</td>\n",
       "      <td>NaN</td>\n",
       "      <td>2326175.0</td>\n",
       "    </tr>\n",
       "    <tr>\n",
       "      <th>1695</th>\n",
       "      <td>zyxin contributes to coupling between cell jun...</td>\n",
       "      <td>10.1371/journal.pgen.1010319</td>\n",
       "      <td>36976799.0</td>\n",
       "      <td>NaN</td>\n",
       "      <td>NaN</td>\n",
       "    </tr>\n",
       "    <tr>\n",
       "      <th>1696</th>\n",
       "      <td>βintegrin dephosphorylation by the densityenha...</td>\n",
       "      <td>10.1371/journal.pgen.1006592</td>\n",
       "      <td>28135265.0</td>\n",
       "      <td>NaN</td>\n",
       "      <td>NaN</td>\n",
       "    </tr>\n",
       "    <tr>\n",
       "      <th>1697</th>\n",
       "      <td>μmapred proximity labeling by red light photoc...</td>\n",
       "      <td>10.1021/jacs.2c01384</td>\n",
       "      <td>NaN</td>\n",
       "      <td>NaN</td>\n",
       "      <td>1978471.0</td>\n",
       "    </tr>\n",
       "    <tr>\n",
       "      <th>1698</th>\n",
       "      <td>σ54dependent response to nitrogen limitation a...</td>\n",
       "      <td>10.1128/AEM.00694-15</td>\n",
       "      <td>25841012.0</td>\n",
       "      <td>NaN</td>\n",
       "      <td>NaN</td>\n",
       "    </tr>\n",
       "  </tbody>\n",
       "</table>\n",
       "<p>1699 rows × 5 columns</p>\n",
       "</div>"
      ],
      "text/plain": [
       "                                                  Title  \\\n",
       "0            12th international mouse genome conference   \n",
       "1     13c and 15nlabeling strategies combined with m...   \n",
       "2     2004 environmental mutagen society annual meet...   \n",
       "3        2016 national algal biofuels technology review   \n",
       "4     2nd international conference on pathways netwo...   \n",
       "...                                                 ...   \n",
       "1694  zn deficiency disrupts cu and s homeostasis in...   \n",
       "1695  zyxin contributes to coupling between cell jun...   \n",
       "1696  βintegrin dephosphorylation by the densityenha...   \n",
       "1697  μmapred proximity labeling by red light photoc...   \n",
       "1698  σ54dependent response to nitrogen limitation a...   \n",
       "\n",
       "                               DOI      pubmed scopus       osti  \n",
       "0                              NaN         NaN    NaN   760867.0  \n",
       "1     10.1371/journal.pone.0141850  26528916.0    NaN        NaN  \n",
       "2                 10.1002/em.20057         NaN    NaN   877190.0  \n",
       "3                  10.2172/1259407         NaN    NaN  1259407.0  \n",
       "4                              NaN         NaN    NaN   860359.0  \n",
       "...                            ...         ...    ...        ...  \n",
       "1694        10.1093/mtomcs/mfad043         NaN    NaN  2326175.0  \n",
       "1695  10.1371/journal.pgen.1010319  36976799.0    NaN        NaN  \n",
       "1696  10.1371/journal.pgen.1006592  28135265.0    NaN        NaN  \n",
       "1697          10.1021/jacs.2c01384         NaN    NaN  1978471.0  \n",
       "1698          10.1128/AEM.00694-15  25841012.0    NaN        NaN  \n",
       "\n",
       "[1699 rows x 5 columns]"
      ]
     },
     "execution_count": 2,
     "metadata": {},
     "output_type": "execute_result"
    }
   ],
   "source": [
    "deduplicated_papers = dance.deduplicate_papers(pubmed_path, scopus_path, osti_path)\n",
    "deduplicated_papers"
   ]
  },
  {
   "cell_type": "markdown",
   "metadata": {},
   "source": [
    "This is the deduped_table that is needed by pull_papers(). Papers will be pulled prioritizing full text to abstracts, in the order of pubmed, scopus, and OSTI. "
   ]
  },
  {
   "cell_type": "code",
   "execution_count": 5,
   "metadata": {},
   "outputs": [
    {
     "name": "stdout",
     "output_type": "stream",
     "text": [
      "Output Summary for Pulling Papers\n",
      "Created: 2025-06-04 13:59:28.763827\n",
      "Total Num. Articles: 20\n",
      "Total Num. Articles Found: 16\n",
      "Number of Full Text: 0\n",
      "Number of Title & Abstracts: 16\n",
      "Number Missing: 4\n",
      "\n"
     ]
    }
   ],
   "source": [
    "output_directory = os.path.join(os.getcwd(), \"pulling_papers\")\n",
    "\n",
    "# Make an example for this deduplicated data \n",
    "os.mkdir(os.path.join(output_directory, \"deduped_example\"))\n",
    "\n",
    "# Read the scopus api key \n",
    "with open(os.path.join(os.getcwd(), \"../example_data/scopus_key.txt\"), \"r\" ) as f: \n",
    "    scopus_api_key = f.read()\n",
    "\n",
    "# To save time, let's do a subset of the deduplicated papers\n",
    "a_subset = pd.concat([deduplicated_papers.head(10), deduplicated_papers.tail(10)]).reset_index(drop = True)\n",
    "\n",
    "# Pull the papers. To save time, let's do the first 10 rows and the last 10 rows\n",
    "dance.pull_papers(deduped_table = a_subset, output_directory = os.path.join(output_directory, \"deduped_example\"), scopus_api_key = scopus_api_key)\n",
    "\n",
    "# Read summary file \n",
    "with open(os.path.join(output_directory, \"deduped_example\", \"output_summary.txt\"), \"r\") as f:\n",
    "    print(f.read())"
   ]
  },
  {
   "cell_type": "markdown",
   "metadata": {},
   "source": [
    "A note on adding publications. They must be added as txt files. The `pypdf` package can be used to convert a pdf to txt file using the `pdfReader()`. Example code is below\n",
    "\n",
    "```{python}\n",
    "# Load library\n",
    "import pypdf\n",
    "\n",
    "# Read data\n",
    "reader = PdfReader(\"your_file.pdf\")\n",
    "\n",
    "# Hold text\n",
    "text = []\n",
    "\n",
    "with open(\"your_file.txt\", \"w\") as file:\n",
    "    for page in reader.pages:\n",
    "        file.write(page.extract_text() + \"\\n\")\n",
    "```"
   ]
  }
 ],
 "metadata": {
  "kernelspec": {
   "display_name": "spacy",
   "language": "python",
   "name": "python3"
  },
  "language_info": {
   "codemirror_mode": {
    "name": "ipython",
    "version": 3
   },
   "file_extension": ".py",
   "mimetype": "text/x-python",
   "name": "python",
   "nbconvert_exporter": "python",
   "pygments_lexer": "ipython3",
   "version": "3.9.21"
  }
 },
 "nbformat": 4,
 "nbformat_minor": 2
}
